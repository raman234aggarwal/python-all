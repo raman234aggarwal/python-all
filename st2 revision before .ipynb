{
 "cells": [
  {
   "cell_type": "markdown",
   "id": "5ab61cda",
   "metadata": {},
   "source": [
    "   # String Fuctions"
   ]
  },
  {
   "cell_type": "code",
   "execution_count": 31,
   "id": "30c21dea-be12-4fd8-9bf4-09f498a77fa6",
   "metadata": {},
   "outputs": [
    {
     "name": "stdout",
     "output_type": "stream",
     "text": [
      "hello world\n"
     ]
    }
   ],
   "source": [
    "s=\"hello world   \"\n",
    "print(s.strip())\n"
   ]
  },
  {
   "cell_type": "code",
   "execution_count": null,
   "id": "4418c3f0",
   "metadata": {},
   "outputs": [
    {
     "name": "stdout",
     "output_type": "stream",
     "text": [
      "['hello', 'world', 'rmana']\n"
     ]
    }
   ],
   "source": [
    "s=\"hello world rmana\" \n",
    "print(s.split(\" \"))"
   ]
  },
  {
   "cell_type": "code",
   "execution_count": 45,
   "id": "11f550d3",
   "metadata": {},
   "outputs": [
    {
     "name": "stdout",
     "output_type": "stream",
     "text": [
      "['hello', 'world  ']\n"
     ]
    }
   ],
   "source": [
    "text = \"hello-world  \"\n",
    "print(text.split(\"-\"))\n",
    "\n",
    "# Output: ['', '', 'hello', '', '', 'world', '', '']\n"
   ]
  },
  {
   "cell_type": "code",
   "execution_count": null,
   "id": "b9a63b1b",
   "metadata": {},
   "outputs": [
    {
     "name": "stdout",
     "output_type": "stream",
     "text": [
      "['helo', 'world', 'rman']\n"
     ]
    }
   ],
   "source": [
    "s=\"helo world rman\" # string to list\n",
    "print(s.split())"
   ]
  },
  {
   "cell_type": "code",
   "execution_count": 62,
   "id": "e7a38ded",
   "metadata": {},
   "outputs": [
    {
     "name": "stdout",
     "output_type": "stream",
     "text": [
      "hello world  rman\n"
     ]
    }
   ],
   "source": [
    "s=[\"hello\", \"world\",\" rman\"]\n",
    "print(\" \".join(s))"
   ]
  },
  {
   "cell_type": "code",
   "execution_count": 22,
   "id": "50300193",
   "metadata": {},
   "outputs": [
    {
     "name": "stdout",
     "output_type": "stream",
     "text": [
      "pyhton aggarwal\n"
     ]
    }
   ],
   "source": [
    "s=\"raman aggarwal\"\n",
    "print(s.replace(\"raman\",\"pyhton\"))"
   ]
  },
  {
   "cell_type": "code",
   "execution_count": 24,
   "id": "af0aadfd",
   "metadata": {},
   "outputs": [
    {
     "name": "stdout",
     "output_type": "stream",
     "text": [
      "15\n"
     ]
    }
   ],
   "source": [
    "s=\"raman aggarwalp\"\n",
    "print(len(s))"
   ]
  },
  {
   "cell_type": "code",
   "execution_count": 25,
   "id": "5fb34e42",
   "metadata": {},
   "outputs": [
    {
     "name": "stdout",
     "output_type": "stream",
     "text": [
      "RAMAN AGGARWAL\n",
      "raman aggarwal\n",
      "Raman Aggarwal\n",
      "Raman aggarwal\n"
     ]
    }
   ],
   "source": [
    "s=\"raman aggarwal\"  \n",
    "print(s.upper())\n",
    "print(s.lower())\n",
    "print(s.title())\n",
    "print(s.capitalize())\n"
   ]
  },
  {
   "cell_type": "code",
   "execution_count": 26,
   "id": "3ca12436",
   "metadata": {},
   "outputs": [
    {
     "name": "stdout",
     "output_type": "stream",
     "text": [
      "6\n"
     ]
    }
   ],
   "source": [
    "s=\"raman aggarwal\"\n",
    "print(s.find(\"aggarwal\"))"
   ]
  },
  {
   "cell_type": "code",
   "execution_count": 29,
   "id": "7f311a28",
   "metadata": {},
   "outputs": [
    {
     "name": "stdout",
     "output_type": "stream",
     "text": [
      "5\n"
     ]
    }
   ],
   "source": [
    "s=\"raman aggarwal\"\n",
    "print(s.count(\"a\"))"
   ]
  },
  {
   "cell_type": "code",
   "execution_count": 64,
   "id": "ca2fd52b",
   "metadata": {},
   "outputs": [
    {
     "name": "stdout",
     "output_type": "stream",
     "text": [
      "raman aggarwal\n"
     ]
    }
   ],
   "source": [
    "s1=\"raman\"\n",
    "s2=\" aggarwal\"\n",
    "print(s1+s2)"
   ]
  },
  {
   "cell_type": "code",
   "execution_count": 66,
   "id": "e91012bf",
   "metadata": {},
   "outputs": [
    {
     "name": "stdout",
     "output_type": "stream",
     "text": [
      "True\n"
     ]
    }
   ],
   "source": [
    " s=\"123\"\n",
    "print(s.isdigit())"
   ]
  },
  {
   "cell_type": "code",
   "execution_count": 67,
   "id": "55e624ca",
   "metadata": {},
   "outputs": [
    {
     "name": "stdout",
     "output_type": "stream",
     "text": [
      "a\n"
     ]
    }
   ],
   "source": [
    "s=\"ramn\"\n",
    "print(s[1])"
   ]
  },
  {
   "cell_type": "code",
   "execution_count": null,
   "id": "b0903407",
   "metadata": {},
   "outputs": [
    {
     "name": "stdout",
     "output_type": "stream",
     "text": [
      "agg\n"
     ]
    }
   ],
   "source": [
    "# checkin for substring (in keywords)\n",
    "s=\"raman \"\n",
    "if \"raman\" in s:\n",
    "    print(\"agg\")"
   ]
  },
  {
   "cell_type": "markdown",
   "id": "653e9617",
   "metadata": {},
   "source": [
    "## string slicing\n"
   ]
  },
  {
   "cell_type": "code",
   "execution_count": 113,
   "id": "af05cfea",
   "metadata": {},
   "outputs": [
    {
     "name": "stdout",
     "output_type": "stream",
     "text": [
      "el\n"
     ]
    }
   ],
   "source": [
    "  s= \"helo world\"\n",
    "print(s[1:3])"
   ]
  },
  {
   "cell_type": "code",
   "execution_count": 82,
   "id": "b7177fe0",
   "metadata": {},
   "outputs": [
    {
     "name": "stdout",
     "output_type": "stream",
     "text": [
      "hello\n"
     ]
    }
   ],
   "source": [
    "s=\"hello world\"\n",
    "print(s[:5])"
   ]
  },
  {
   "cell_type": "code",
   "execution_count": 83,
   "id": "ecd681a3",
   "metadata": {},
   "outputs": [
    {
     "name": "stdout",
     "output_type": "stream",
     "text": [
      "aman\n"
     ]
    }
   ],
   "source": [
    "s=\"raman\"\n",
    "print(s[1:])"
   ]
  },
  {
   "cell_type": "code",
   "execution_count": 89,
   "id": "bdafdb5f",
   "metadata": {},
   "outputs": [
    {
     "name": "stdout",
     "output_type": "stream",
     "text": [
      "lawragga namar\n"
     ]
    }
   ],
   "source": [
    "s=\"raman aggarwal\"\n",
    "print(s[::-1])"
   ]
  },
  {
   "cell_type": "code",
   "execution_count": 94,
   "id": "5b9b37f0",
   "metadata": {},
   "outputs": [
    {
     "name": "stdout",
     "output_type": "stream",
     "text": [
      "rmn gawl\n"
     ]
    }
   ],
   "source": [
    "s=\"raman  aggarwal\"\n",
    "print(s[::2])"
   ]
  },
  {
   "cell_type": "code",
   "execution_count": 108,
   "id": "58548575",
   "metadata": {},
   "outputs": [
    {
     "name": "stdout",
     "output_type": "stream",
     "text": [
      "\n"
     ]
    }
   ],
   "source": [
    "s=\"raman aggarwal\"\n",
    "print(s[-1: -5])"
   ]
  },
  {
   "cell_type": "code",
   "execution_count": 109,
   "id": "bf6d5b00",
   "metadata": {},
   "outputs": [
    {
     "name": "stdout",
     "output_type": "stream",
     "text": [
      "arwa\n"
     ]
    }
   ],
   "source": [
    "s=\"raman aggarwal\"\n",
    "print(s[-5: -1])"
   ]
  },
  {
   "cell_type": "markdown",
   "id": "fef9c56a",
   "metadata": {},
   "source": [
    "# List\n"
   ]
  },
  {
   "cell_type": "code",
   "execution_count": null,
   "id": "2392e85f",
   "metadata": {},
   "outputs": [
    {
     "name": "stdout",
     "output_type": "stream",
     "text": [
      "['apple', 'mango', 'banana', 'orange']\n",
      "<class 'list'>\n",
      "mango\n"
     ]
    }
   ],
   "source": [
    " # indexing\n",
    "li=[\"apple\",\"mango\",\"banana\",\"orange\"]\n",
    "print(li)\n",
    "print(type(li))\n",
    "print(li[1])"
   ]
  },
  {
   "cell_type": "code",
   "execution_count": 119,
   "id": "00084580",
   "metadata": {},
   "outputs": [
    {
     "name": "stdout",
     "output_type": "stream",
     "text": [
      "['apple', 'mango', 'banana', 'orange']\n",
      "['mango', 'banana']\n"
     ]
    }
   ],
   "source": [
    "# slicing\n",
    "li=[\"apple\",\"mango\",\"banana\",\"orange\"]\n",
    "print(li)\n",
    "print(li[1:3])"
   ]
  },
  {
   "cell_type": "code",
   "execution_count": 120,
   "id": "b03d1d6e",
   "metadata": {},
   "outputs": [
    {
     "name": "stdout",
     "output_type": "stream",
     "text": [
      "['apple', 'mango', 'banana', 'orange']\n",
      "['apple', 'kiwi', 'banana', 'orange']\n"
     ]
    }
   ],
   "source": [
    "# modifying list\n",
    "li=[\"apple\",\"mango\",\"banana\",\"orange\"]\n",
    "print(li)\n",
    "li[1]=\"kiwi\"\n",
    "print(li)"
   ]
  },
  {
   "cell_type": "code",
   "execution_count": null,
   "id": "ae9c96cb",
   "metadata": {},
   "outputs": [],
   "source": [
    "# append/adding element in list\n",
    "li=[\"apple\",\"mango\",\"banana\",\"orange\"]\n",
    "print(li)\n",
    "li.append(\"kiwi\")\n",
    "print(li)"
   ]
  },
  {
   "cell_type": "code",
   "execution_count": null,
   "id": "0e63bd2a",
   "metadata": {},
   "outputs": [
    {
     "name": "stdout",
     "output_type": "stream",
     "text": [
      "['apple', 'mango', 'banana', 'orange']\n",
      "['apple', 'kiwi', 'mango', 'banana', 'orange']\n"
     ]
    }
   ],
   "source": [
    "# insert element in list    \n",
    "li=[\"apple\",\"mango\",\"banana\",\"orange\"]\n",
    "print(li)\n",
    "li.insert(1,\"kiwi\")\n",
    "print(li)\n"
   ]
  },
  {
   "cell_type": "code",
   "execution_count": 122,
   "id": "2cd92cc3",
   "metadata": {},
   "outputs": [
    {
     "name": "stdout",
     "output_type": "stream",
     "text": [
      "['apple', 'mango', 'banana', 'orange']\n",
      "['apple', 'banana', 'orange']\n"
     ]
    }
   ],
   "source": [
    "# remove function\n",
    "li=[\"apple\",\"mango\",\"banana\",\"orange\"]\n",
    "print(li)\n",
    "li.remove(\"mango\")\n",
    "print(li)"
   ]
  },
  {
   "cell_type": "code",
   "execution_count": null,
   "id": "1479e472",
   "metadata": {},
   "outputs": [
    {
     "name": "stdout",
     "output_type": "stream",
     "text": [
      "['apple', 'mango', 'banana', 'orange']\n",
      "['apple', 'mango', 'banana']\n"
     ]
    }
   ],
   "source": [
    "#pop function delete the last element\n",
    "li=[\"apple\",\"mango\",\"banana\",\"orange\"]\n",
    "print(li)\n",
    "li.pop()\n",
    "print(li)"
   ]
  },
  {
   "cell_type": "code",
   "execution_count": null,
   "id": "374a76ee",
   "metadata": {},
   "outputs": [
    {
     "name": "stdout",
     "output_type": "stream",
     "text": [
      "['apple', 'mango', 'banana', 'orange']\n",
      "['apple', 'banana', 'orange']\n"
     ]
    }
   ],
   "source": [
    "#pop function delete the element at index\n",
    "li=[\"apple\",\"mango\",\"banana\",\"orange\"]\n",
    "print(li)\n",
    "li.pop(1)\n",
    "print(li)\n"
   ]
  },
  {
   "cell_type": "code",
   "execution_count": 125,
   "id": "500b7994",
   "metadata": {},
   "outputs": [
    {
     "name": "stdout",
     "output_type": "stream",
     "text": [
      "['apple', 'mango', 'banana', 'orange']\n",
      "['apple', 'banana', 'orange']\n"
     ]
    }
   ],
   "source": [
    "#del function delete the element at index\n",
    "li=[\"apple\",\"mango\",\"banana\",\"orange\"]\n",
    "print(li)\n",
    "del li[1]\n",
    "print(li)"
   ]
  },
  {
   "cell_type": "code",
   "execution_count": 130,
   "id": "f48954be",
   "metadata": {},
   "outputs": [
    {
     "name": "stdout",
     "output_type": "stream",
     "text": [
      "[7, 3, 5, 1, 9]\n",
      "[1, 3, 5, 7, 9]\n"
     ]
    }
   ],
   "source": [
    "# sort function\n",
    "li=[7,3,5,1,9]\n",
    "print(li)\n",
    "li.sort()\n",
    "print(li)"
   ]
  },
  {
   "cell_type": "code",
   "execution_count": 131,
   "id": "2da2ede3",
   "metadata": {},
   "outputs": [
    {
     "name": "stdout",
     "output_type": "stream",
     "text": [
      "[7, 3, 5, 1, 9]\n",
      "[9, 1, 5, 3, 7]\n"
     ]
    }
   ],
   "source": [
    "# reverse function\n",
    "li=[7,3,5,1,9]\n",
    "print(li)\n",
    "li.reverse()\n",
    "print(li)"
   ]
  },
  {
   "cell_type": "code",
   "execution_count": null,
   "id": "98b7eca5",
   "metadata": {},
   "outputs": [
    {
     "name": "stdout",
     "output_type": "stream",
     "text": [
      "[7, 3, 5, 1, 9]\n",
      "[7, 3, 5, 1, 9]\n"
     ]
    }
   ],
   "source": [
    "# copy function\n",
    "li=[7,3,5,1,9]\n",
    "li\n",
    "print(li)\n",
    "li1=li.copy()\n",
    "print(li1)\n"
   ]
  },
  {
   "cell_type": "code",
   "execution_count": 132,
   "id": "195d1bd4",
   "metadata": {},
   "outputs": [
    {
     "name": "stdout",
     "output_type": "stream",
     "text": [
      "[7, 3, 5, 1, 9]\n",
      "[9, 7, 5, 3, 1]\n"
     ]
    }
   ],
   "source": [
    "# descending order\n",
    "li=[7,3,5,1,9]\n",
    "print(li)\n",
    "li.sort(reverse=True)\n",
    "print(li)"
   ]
  },
  {
   "cell_type": "code",
   "execution_count": 136,
   "id": "5ed4c428",
   "metadata": {},
   "outputs": [
    {
     "name": "stdout",
     "output_type": "stream",
     "text": [
      "[7, 3, 7, 5, 1, 9]\n",
      "2\n"
     ]
    }
   ],
   "source": [
    "#count function\n",
    "li=[7,3,7,5,1,9]\n",
    "print(li)\n",
    "print(li.count(7))"
   ]
  },
  {
   "cell_type": "code",
   "execution_count": null,
   "id": "72caba9b",
   "metadata": {},
   "outputs": [],
   "source": [
    "# input the list of elements from user\n",
    "li=[]\n",
    "n=int(input(\"Enter the number of elements\"))\n",
    "for i in range(n):\n",
    "    li.append(input(\"Enter the element\"))\n",
    "print(li)\n"
   ]
  },
  {
   "cell_type": "code",
   "execution_count": 146,
   "id": "fbbf5f4e",
   "metadata": {},
   "outputs": [
    {
     "name": "stdout",
     "output_type": "stream",
     "text": [
      "[1, 2, 3, 4, 5, 6, 7, 8]\n"
     ]
    }
   ],
   "source": [
    "# concatenation of list\n",
    "li1=[1,2,3,4]\n",
    "li2=[5,6,7,8]\n",
    "li3=li1+li2\n",
    "print(li3)"
   ]
  },
  {
   "cell_type": "code",
   "execution_count": 145,
   "id": "01d4e5e2",
   "metadata": {},
   "outputs": [
    {
     "name": "stdout",
     "output_type": "stream",
     "text": [
      "[7, 3, 5, 1, 9]\n",
      "7\n",
      "3\n",
      "5\n",
      "1\n",
      "9\n"
     ]
    }
   ],
   "source": [
    "#loop\n",
    "li=[7,3,5,1,9]\n",
    "print(li)\n",
    "for i in li:\n",
    "    print(i)\n"
   ]
  },
  {
   "cell_type": "markdown",
   "id": "e880d618",
   "metadata": {},
   "source": [
    "# Tuple"
   ]
  },
  {
   "cell_type": "code",
   "execution_count": null,
   "id": "957e4fab",
   "metadata": {},
   "outputs": [],
   "source": [
    "#extend\n",
    "\n",
    "lst = [1, 2, 3]\n",
    "lst.extend([4, 5])\n",
    "print(lst)  # Output: [1, 2, 3, 4, 5]\n",
    "\n"
   ]
  },
  {
   "cell_type": "code",
   "execution_count": null,
   "id": "63ce5ab9",
   "metadata": {},
   "outputs": [],
   "source": []
  }
 ],
 "metadata": {
  "kernelspec": {
   "display_name": "Python 3",
   "language": "python",
   "name": "python3"
  },
  "language_info": {
   "codemirror_mode": {
    "name": "ipython",
    "version": 3
   },
   "file_extension": ".py",
   "mimetype": "text/x-python",
   "name": "python",
   "nbconvert_exporter": "python",
   "pygments_lexer": "ipython3",
   "version": "3.12.6"
  }
 },
 "nbformat": 4,
 "nbformat_minor": 5
}
